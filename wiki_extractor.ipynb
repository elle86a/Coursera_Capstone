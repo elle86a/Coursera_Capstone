{
 "metadata": {
  "language_info": {
   "codemirror_mode": {
    "name": "ipython",
    "version": 3
   },
   "file_extension": ".py",
   "mimetype": "text/x-python",
   "name": "python",
   "nbconvert_exporter": "python",
   "pygments_lexer": "ipython3",
   "version": "3.8.6-final"
  },
  "orig_nbformat": 2,
  "kernelspec": {
   "name": "python38664bit3588841ec94d4c638cc74809cbb229d7",
   "display_name": "Python 3.8.6 64-bit",
   "language": "python"
  }
 },
 "nbformat": 4,
 "nbformat_minor": 2,
 "cells": [
  {
   "source": [
    "# Scraping Wikipedia"
   ],
   "cell_type": "markdown",
   "metadata": {}
  },
  {
   "source": [
    "## For extrapolate information about Borough , postal code and neighborhood \n",
    "link: https://en.wikipedia.org/wiki/List_of_postal_codes_of_Canada:_M"
   ],
   "cell_type": "markdown",
   "metadata": {}
  },
  {
   "source": [
    "Importing the necessary libraries"
   ],
   "cell_type": "markdown",
   "metadata": {}
  },
  {
   "cell_type": "code",
   "execution_count": 13,
   "metadata": {},
   "outputs": [],
   "source": [
    "import pandas as pd\n",
    "import numpy as np\n",
    "from bs4 import BeautifulSoup\n",
    "import requests"
   ]
  },
  {
   "source": [
    "GET request of the html page from the wikipedia page"
   ],
   "cell_type": "markdown",
   "metadata": {}
  },
  {
   "cell_type": "code",
   "execution_count": 14,
   "metadata": {},
   "outputs": [],
   "source": [
    "\n",
    "fp=requests.get('https://en.wikipedia.org/wiki/List_of_postal_codes_of_Canada:_M')"
   ]
  },
  {
   "source": [
    "Initializing the BeautifulSoup object"
   ],
   "cell_type": "markdown",
   "metadata": {}
  },
  {
   "cell_type": "code",
   "execution_count": 15,
   "metadata": {},
   "outputs": [],
   "source": [
    "soup = BeautifulSoup(fp.content)"
   ]
  },
  {
   "source": [
    "Initialization of the empty pandas DataFrame"
   ],
   "cell_type": "markdown",
   "metadata": {}
  },
  {
   "cell_type": "code",
   "execution_count": 16,
   "metadata": {},
   "outputs": [
    {
     "output_type": "execute_result",
     "data": {
      "text/plain": [
       "Empty DataFrame\n",
       "Columns: [PostalCode, Borough, Neighborhood]\n",
       "Index: []"
      ],
      "text/html": "<div>\n<style scoped>\n    .dataframe tbody tr th:only-of-type {\n        vertical-align: middle;\n    }\n\n    .dataframe tbody tr th {\n        vertical-align: top;\n    }\n\n    .dataframe thead th {\n        text-align: right;\n    }\n</style>\n<table border=\"1\" class=\"dataframe\">\n  <thead>\n    <tr style=\"text-align: right;\">\n      <th></th>\n      <th>PostalCode</th>\n      <th>Borough</th>\n      <th>Neighborhood</th>\n    </tr>\n  </thead>\n  <tbody>\n  </tbody>\n</table>\n</div>"
     },
     "metadata": {},
     "execution_count": 16
    }
   ],
   "source": [
    "columns=[\"PostalCode\",\"Borough\",\"Neighborhood\"]\n",
    "df= pd.DataFrame(columns=columns)\n",
    "df"
   ]
  },
  {
   "source": [
    "I find the first occurrence in the html page of type Table with the class \"wikitable\", and I create a list of the elements tr inside it"
   ],
   "cell_type": "markdown",
   "metadata": {}
  },
  {
   "cell_type": "code",
   "execution_count": 17,
   "metadata": {
    "tags": []
   },
   "outputs": [],
   "source": [
    "res= soup.find(\"table\",class_=\"wikitable\")\n",
    "res= res.find_all(\"tr\")"
   ]
  },
  {
   "source": [
    "\n",
    "I loop through the list that contains my elements, get the information I need by running two checks:\n",
    "* if the element is empty (case of th)\n",
    "* if the element contains \"Not assigned\" in Borough\n",
    "\n",
    "\n",
    "A further check is carried out on the \"Neighborhood\" column, if it contains \"Not assigned\" the value of the \"Borough\" column is set\n"
   ],
   "cell_type": "markdown",
   "metadata": {}
  },
  {
   "cell_type": "code",
   "execution_count": 18,
   "metadata": {},
   "outputs": [],
   "source": [
    "for tr in res:\n",
    "    column =tr.find_all(\"td\")\n",
    "    # If empy or \"Not assigned jump this iteration and not save it in DataFrame\"\n",
    "    if len(column)==0 or column[1].text.strip()==\"Not assigned\":\n",
    "        continue\n",
    "\n",
    "    # If Neighborhood is \"Not assigned\" save Borough value in it\n",
    "    if column[2].text.strip()==\"Not assigned\":\n",
    "        df= df.append({'PostalCode':column[0].text.strip(),'Borough':column[1].text.strip(),'Neighborhood':column[1].text.strip()},ignore_index=True)\n",
    "    else:\n",
    "        df= df.append({'PostalCode':column[0].text.strip(),'Borough':column[1].text.strip(),'Neighborhood':column[2].text.strip()},ignore_index=True)\n"
   ]
  },
  {
   "source": [
    "At this point my DataFrame has been filled and the data usable"
   ],
   "cell_type": "markdown",
   "metadata": {}
  },
  {
   "cell_type": "code",
   "execution_count": 19,
   "metadata": {},
   "outputs": [
    {
     "output_type": "execute_result",
     "data": {
      "text/plain": [
       "(103, 3)"
      ]
     },
     "metadata": {},
     "execution_count": 19
    }
   ],
   "source": [
    "df.shape"
   ]
  },
  {
   "source": [
    "Export dataFrame to utilizable CSV File"
   ],
   "cell_type": "markdown",
   "metadata": {}
  },
  {
   "cell_type": "code",
   "execution_count": 20,
   "metadata": {},
   "outputs": [],
   "source": [
    "df.to_csv('Archive/out.csv', index=False)  "
   ]
  },
  {
   "cell_type": "code",
   "execution_count": null,
   "metadata": {},
   "outputs": [],
   "source": []
  }
 ]
}