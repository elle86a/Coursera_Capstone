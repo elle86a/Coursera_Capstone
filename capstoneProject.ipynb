{
 "metadata": {
  "language_info": {
   "codemirror_mode": {
    "name": "ipython",
    "version": 3
   },
   "file_extension": ".py",
   "mimetype": "text/x-python",
   "name": "python",
   "nbconvert_exporter": "python",
   "pygments_lexer": "ipython3",
   "version": "3.8.6-final"
  },
  "orig_nbformat": 2,
  "kernelspec": {
   "name": "python38664bit3588841ec94d4c638cc74809cbb229d7",
   "display_name": "Python 3.8.6 64-bit",
   "language": "python"
  }
 },
 "nbformat": 4,
 "nbformat_minor": 2,
 "cells": [
  {
   "cell_type": "code",
   "execution_count": 2,
   "metadata": {},
   "outputs": [],
   "source": [
    "import pandas as pd\n",
    "import numpy as np\n",
    "import requests\n",
    "from pandas.io.json import json_normalize"
   ]
  },
  {
   "cell_type": "code",
   "execution_count": 3,
   "metadata": {},
   "outputs": [
    {
     "output_type": "stream",
     "name": "stdout",
     "text": [
      "Your credentails:\nCLIENT_ID: YWHRWZENBRFM4LEANKM4VJERTJWP3I5G3A1340YMNFQKE5ON\nCLIENT_SECRET:CO43MLZ4D20PPPJQTJRA0RMHCQCVAYOKQWZMLW1B2BZD1ZK0\n"
     ]
    }
   ],
   "source": [
    "CLIENT_ID = 'YWHRWZENBRFM4LEANKM4VJERTJWP3I5G3A1340YMNFQKE5ON' # your Foursquare ID\n",
    "CLIENT_SECRET = 'CO43MLZ4D20PPPJQTJRA0RMHCQCVAYOKQWZMLW1B2BZD1ZK0' # your Foursquare Secret\n",
    "VERSION = '20180605' # Foursquare API version\n",
    "LIMIT = 100 # A default Foursquare API limit value\n",
    "\n",
    "print('Your credentails:')\n",
    "print('CLIENT_ID: ' + CLIENT_ID)\n",
    "print('CLIENT_SECRET:' + CLIENT_SECRET)"
   ]
  },
  {
   "cell_type": "code",
   "execution_count": 4,
   "metadata": {},
   "outputs": [
    {
     "output_type": "execute_result",
     "data": {
      "text/plain": [
       "'https://api.foursquare.com/v2/venues/explore?&client_id=YWHRWZENBRFM4LEANKM4VJERTJWP3I5G3A1340YMNFQKE5ON&client_secret=CO43MLZ4D20PPPJQTJRA0RMHCQCVAYOKQWZMLW1B2BZD1ZK0&v=20180605&ll=44.16975536259105,9.88543293779643&radius=5000&limit=100'"
      ]
     },
     "metadata": {},
     "execution_count": 4
    }
   ],
   "source": [
    "LIMIT = 100 # limit of number of venues returned by Foursquare API\n",
    "\n",
    "radius = 5000 # define radius\n",
    "\n",
    "latitude=44.16975536259105 \n",
    "longitude=9.88543293779643\n",
    "\n",
    "url = 'https://api.foursquare.com/v2/venues/explore?&client_id={}&client_secret={}&v={}&ll={},{}&radius={}&limit={}'.format(\n",
    "    CLIENT_ID, \n",
    "    CLIENT_SECRET, \n",
    "    VERSION, \n",
    "    latitude, \n",
    "    longitude, \n",
    "    radius, \n",
    "    LIMIT)\n",
    "url "
   ]
  },
  {
   "cell_type": "code",
   "execution_count": 5,
   "metadata": {},
   "outputs": [],
   "source": [
    "# function that extracts the category of the venue\n",
    "def get_category_type(row):\n",
    "    try:\n",
    "        categories_list = row['categories']\n",
    "    except:\n",
    "        categories_list = row['venue.categories']\n",
    "        \n",
    "    if len(categories_list) == 0:\n",
    "        return None\n",
    "    else:\n",
    "        return categories_list[0]['name']"
   ]
  },
  {
   "cell_type": "code",
   "execution_count": 6,
   "metadata": {},
   "outputs": [
    {
     "output_type": "execute_result",
     "data": {
      "text/plain": [
       "                                          name           categories  \\\n",
       "0                         Osteria Delle Pietre          Pizza Place   \n",
       "1                          Il Ristoro nell'Aia   Italian Restaurant   \n",
       "2                           Locanda La Trigola           Restaurant   \n",
       "3                                    Decathlon  Sporting Goods Shop   \n",
       "4                                          OVS       Clothing Store   \n",
       "5                                    L'Ombrosa   Italian Restaurant   \n",
       "6   Centro Commerciale La Fabbrica / E.Leclerc        Shopping Mall   \n",
       "7              Stazione Santo Stefano di Magra        Train Station   \n",
       "8                                        Conad          Supermarket   \n",
       "9                                     Bricofer           Hobby Shop   \n",
       "10                                  Bar Lidamo                 Café   \n",
       "11                                    Spizzico           Restaurant   \n",
       "12                           Mimmo e Francesca          Pizza Place   \n",
       "13                                 A15 - Aulla           Toll Booth   \n",
       "\n",
       "          lat       lng  \n",
       "0   44.142197  9.888887  \n",
       "1   44.157475  9.903568  \n",
       "2   44.160703  9.934623  \n",
       "3   44.153091  9.917256  \n",
       "4   44.155107  9.917197  \n",
       "5   44.155823  9.878426  \n",
       "6   44.155188  9.917136  \n",
       "7   44.155960  9.915837  \n",
       "8   44.155293  9.916929  \n",
       "9   44.135553  9.902525  \n",
       "10  44.145755  9.923956  \n",
       "11  44.137102  9.916184  \n",
       "12  44.186140  9.937474  \n",
       "13  44.199633  9.929016  "
      ],
      "text/html": "<div>\n<style scoped>\n    .dataframe tbody tr th:only-of-type {\n        vertical-align: middle;\n    }\n\n    .dataframe tbody tr th {\n        vertical-align: top;\n    }\n\n    .dataframe thead th {\n        text-align: right;\n    }\n</style>\n<table border=\"1\" class=\"dataframe\">\n  <thead>\n    <tr style=\"text-align: right;\">\n      <th></th>\n      <th>name</th>\n      <th>categories</th>\n      <th>lat</th>\n      <th>lng</th>\n    </tr>\n  </thead>\n  <tbody>\n    <tr>\n      <th>0</th>\n      <td>Osteria Delle Pietre</td>\n      <td>Pizza Place</td>\n      <td>44.142197</td>\n      <td>9.888887</td>\n    </tr>\n    <tr>\n      <th>1</th>\n      <td>Il Ristoro nell'Aia</td>\n      <td>Italian Restaurant</td>\n      <td>44.157475</td>\n      <td>9.903568</td>\n    </tr>\n    <tr>\n      <th>2</th>\n      <td>Locanda La Trigola</td>\n      <td>Restaurant</td>\n      <td>44.160703</td>\n      <td>9.934623</td>\n    </tr>\n    <tr>\n      <th>3</th>\n      <td>Decathlon</td>\n      <td>Sporting Goods Shop</td>\n      <td>44.153091</td>\n      <td>9.917256</td>\n    </tr>\n    <tr>\n      <th>4</th>\n      <td>OVS</td>\n      <td>Clothing Store</td>\n      <td>44.155107</td>\n      <td>9.917197</td>\n    </tr>\n    <tr>\n      <th>5</th>\n      <td>L'Ombrosa</td>\n      <td>Italian Restaurant</td>\n      <td>44.155823</td>\n      <td>9.878426</td>\n    </tr>\n    <tr>\n      <th>6</th>\n      <td>Centro Commerciale La Fabbrica / E.Leclerc</td>\n      <td>Shopping Mall</td>\n      <td>44.155188</td>\n      <td>9.917136</td>\n    </tr>\n    <tr>\n      <th>7</th>\n      <td>Stazione Santo Stefano di Magra</td>\n      <td>Train Station</td>\n      <td>44.155960</td>\n      <td>9.915837</td>\n    </tr>\n    <tr>\n      <th>8</th>\n      <td>Conad</td>\n      <td>Supermarket</td>\n      <td>44.155293</td>\n      <td>9.916929</td>\n    </tr>\n    <tr>\n      <th>9</th>\n      <td>Bricofer</td>\n      <td>Hobby Shop</td>\n      <td>44.135553</td>\n      <td>9.902525</td>\n    </tr>\n    <tr>\n      <th>10</th>\n      <td>Bar Lidamo</td>\n      <td>Café</td>\n      <td>44.145755</td>\n      <td>9.923956</td>\n    </tr>\n    <tr>\n      <th>11</th>\n      <td>Spizzico</td>\n      <td>Restaurant</td>\n      <td>44.137102</td>\n      <td>9.916184</td>\n    </tr>\n    <tr>\n      <th>12</th>\n      <td>Mimmo e Francesca</td>\n      <td>Pizza Place</td>\n      <td>44.186140</td>\n      <td>9.937474</td>\n    </tr>\n    <tr>\n      <th>13</th>\n      <td>A15 - Aulla</td>\n      <td>Toll Booth</td>\n      <td>44.199633</td>\n      <td>9.929016</td>\n    </tr>\n  </tbody>\n</table>\n</div>"
     },
     "metadata": {},
     "execution_count": 6
    }
   ],
   "source": [
    "results = requests.get(url).json()\n",
    "results\n",
    "\n",
    "venues = results['response']['groups'][0]['items']\n",
    "    \n",
    "nearby_venues = json_normalize(venues) # flatten JSON\n",
    "\n",
    "# filter columns\n",
    "filtered_columns = ['venue.name', 'venue.categories', 'venue.location.lat', 'venue.location.lng']\n",
    "nearby_venues =nearby_venues.loc[:, filtered_columns]\n",
    "\n",
    "# filter the category for each row\n",
    "nearby_venues['venue.categories'] = nearby_venues.apply(get_category_type, axis=1)\n",
    "\n",
    "# clean columns\n",
    "nearby_venues.columns = [col.split(\".\")[-1] for col in nearby_venues.columns]\n",
    "\n",
    "nearby_venues"
   ]
  },
  {
   "cell_type": "code",
   "execution_count": null,
   "metadata": {},
   "outputs": [],
   "source": []
  }
 ]
}