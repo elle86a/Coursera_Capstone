{
 "metadata": {
  "language_info": {
   "codemirror_mode": {
    "name": "ipython",
    "version": 3
   },
   "file_extension": ".py",
   "mimetype": "text/x-python",
   "name": "python",
   "nbconvert_exporter": "python",
   "pygments_lexer": "ipython3",
   "version": 3
  },
  "orig_nbformat": 2
 },
 "nbformat": 4,
 "nbformat_minor": 2,
 "cells": [
  {
   "source": [
    "# Seismological risk analysis in Sicily"
   ],
   "cell_type": "markdown",
   "metadata": {}
  },
  {
   "source": [
    "### seismological assessment for activities in the vicinity of significant seismic events, in order to associate each activity with a risk band"
   ],
   "cell_type": "markdown",
   "metadata": {}
  },
  {
   "source": [
    "Following your request, it is possible to associate existing companies to evaluate a possible risk due to territorial seismic problems in Sicily. By crossing the data with earthquakes that have significantly damaged things or people in the relative area, it is possible to evaluate the danger of having an activity in the area, so as to know the danger in insuring a particular customer, and possibly convince new ones with the right rate risk\n",
    "\n",
    "We have decided to start from earthquakes that have already occurred previously, taking as a range of dates:\n",
    "* from: 1985\n",
    "* to: 2021\n",
    "\n",
    "as this time frame returns a significant number of cases."
   ],
   "cell_type": "markdown",
   "metadata": {}
  },
  {
   "source": [
    "![](sicilia.jpg)"
   ],
   "cell_type": "markdown",
   "metadata": {}
  },
  {
   "source": [
    "### ForSquare utility\n",
    "\n",
    "We use the FourSquare rest API, to receive the list of existing activities, choosing the epicenter as the research center, while the search radius will be extended based on the depth of the epicenter and the magnitude\n",
    "\n",
    "![](terremoto-onde.jpg)"
   ],
   "cell_type": "markdown",
   "metadata": {}
  },
  {
   "source": [],
   "cell_type": "markdown",
   "metadata": {}
  },
  {
   "source": [
    "Using the repository of Italian earthquakes, we can filter these for the region of Tuscany, by crossing the data with wikipedia of the main earthquakes in Sicily, it is possible to add an aggravating circumstance to the single earthquake and verify the distribution of these on the island.\n",
    "\n",
    "List of earthquakes: [cnt.rm.ingv.it](http://cnt.rm.ingv.it/events?starttime=2021-02-16+00%3A00%3A00&endtime=2021-02-23+23%3A59%3A59&last_nd=-2&minmag=2&maxmag=10&mindepth=-10&maxdepth=1000&minlat=35&maxlat=49&minlon=5&maxlon=20&minversion=100&limit=30&orderby=ot-desc&tdmt_flag=-1&lat=0&lon=0&maxradiuskm=-1&wheretype=area&box_search=Italia).\n",
    "\n",
    "List of critical earthquakes in Sicily: [wikipedia.org](https://it.wikipedia.org/wiki/Terremoti_in_Sicilia).\n",
    "\n",
    "![](siciliaTer.png)"
   ],
   "cell_type": "markdown",
   "metadata": {}
  },
  {
   "cell_type": "code",
   "execution_count": null,
   "metadata": {},
   "outputs": [],
   "source": []
  }
 ]
}